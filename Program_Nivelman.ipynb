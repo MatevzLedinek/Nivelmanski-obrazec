{
 "cells": [
  {
   "cell_type": "code",
   "execution_count": 6,
   "metadata": {
    "collapsed": false
   },
   "outputs": [
    {
     "name": "stdout",
     "output_type": "stream",
     "text": [
      "__________________________________________________\n",
      "NIVELMANSKI OBRAZEC\n",
      "MATEVŽ LEDINEK\n",
      "__________________________________________________\n",
      "KONI Ni 007\n",
      "NAPIŠITE ŠTEVILO RAZDELB NA LAT1[1 ali 2] : 2\n",
      "__________________________________________________\n",
      "IME PRVEGA REPERJA =1\n",
      "ODČITEK ZGORAJ LEVA RAZDELBA=5\n",
      "ODČITEK SPODAJ LEVA RAZDELBA=5\n",
      "SREDINA LEVA RAZDELBA=4\n",
      "ODČITEK ZGORAJ LEVA RAZDELBA=7\n",
      "ODČITEK SPODAJ LEVA RAZDELBA=4\n",
      "SREDINA LEVA RAZDELBA=8\n",
      "RAZDALJA =        0.0 m        0.0 m\n"
     ]
    }
   ],
   "source": [
    "import math\n",
    "print(50 *'_')\n",
    "print('NIVELMANSKI OBRAZEC')\n",
    "print('MATEVŽ LEDINEK')\n",
    "print(50 *'_')\n",
    "print('KONI Ni 007')\n",
    "choice = input('NAPIŠITE ŠTEVILO RAZDELB NA LAT1[1 ali 2] : ')\n",
    "choice = int(choice)\n",
    "\n",
    "if choice == 1:\n",
    "    print (50*'_')\n",
    "    for i in range (n)\n",
    "        \n",
    "        R1 = input('IME PRVEGA REPERJA =')\n",
    "        oz1 = int(input('ODČITEK ZGORAJ='))\n",
    "        o1= int(input('SREDINA='))\n",
    "        os1= int(input('ODČITEK SPODAJ='))\n",
    "        R= (oz1-os1)/1000\n",
    "        print('RAZDALJA = {:10.1f} m'.format(R))\n",
    "        choice = input('NAPIŠITE ŠTEVILO RAZDELB NA LAT1[1 ali 2] : ')\n",
    "    \n",
    "    \n",
    "if choice == 2:\n",
    "    print (50*'_')\n",
    "    R1 = input('IME PRVEGA REPERJA =')\n",
    "    oz1 = int(input('ODČITEK ZGORAJ LEVA RAZDELBA='))\n",
    "    o1= int(input('SREDINA LEVA RAZDELBA='))\n",
    "    os1= int(input('ODČITEK SPODAJ LEVA RAZDELBA='))\n",
    "    os2= int(input('ODČITEK SPODAJ LEVA RAZDELBA='))\n",
    "    oz2 = int(input('ODČITEK ZGORAJ LEVA RAZDELBA='))\n",
    "    o2= int(input('SREDINA LEVA RAZDELBA='))\n",
    "    R= (oz1-os1)/1000\n",
    "    R1= (oz2-os2)/1000\n",
    "    print('RAZDALJA = {0:10.1f} m {1:10.1f} m'.format(R, R1))"
   ]
  }
 ],
 "metadata": {
  "anaconda-cloud": {},
  "kernelspec": {
   "display_name": "Python [conda root]",
   "language": "python",
   "name": "conda-root-py"
  },
  "language_info": {
   "codemirror_mode": {
    "name": "ipython",
    "version": 3
   },
   "file_extension": ".py",
   "mimetype": "text/x-python",
   "name": "python",
   "nbconvert_exporter": "python",
   "pygments_lexer": "ipython3",
   "version": "3.5.2"
  }
 },
 "nbformat": 4,
 "nbformat_minor": 1
}
